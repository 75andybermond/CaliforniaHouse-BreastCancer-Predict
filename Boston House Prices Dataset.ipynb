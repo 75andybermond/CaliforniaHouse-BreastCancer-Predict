{
 "cells": [
  {
   "cell_type": "markdown",
   "id": "d770899f-0066-458c-8fd1-f817f317c937",
   "metadata": {
    "id": "d770899f-0066-458c-8fd1-f817f317c937"
   },
   "source": [
    "# Boston House Prices Dataset"
   ]
  },
  {
   "cell_type": "code",
   "execution_count": 1,
   "id": "3fc852f2-c58d-458a-81ec-50f5181113c7",
   "metadata": {
    "id": "3fc852f2-c58d-458a-81ec-50f5181113c7"
   },
   "outputs": [],
   "source": [
    "import pandas as pd\n",
    "\n",
    "import numpy as np\n",
    "\n",
    "from sklearn.datasets import load_boston\n",
    "\n",
    "from sklearn.model_selection import train_test_split\n",
    "from sklearn.preprocessing import MinMaxScaler\n",
    "from sklearn.model_selection import GridSearchCV\n",
    "from sklearn.neural_network import MLPRegressor\n",
    "from sklearn.metrics import mean_squared_error\n",
    "\n",
    "import matplotlib.pyplot as plt"
   ]
  },
  {
   "cell_type": "markdown",
   "id": "1c149a7c-2e8d-4ad9-864f-95d6431a07ca",
   "metadata": {
    "id": "1c149a7c-2e8d-4ad9-864f-95d6431a07ca"
   },
   "source": [
    "## Chargement du jeu de données"
   ]
  },
  {
   "cell_type": "code",
   "execution_count": 2,
   "id": "54a4031a-e875-4b87-b117-aaa6b5c6fdb8",
   "metadata": {
    "colab": {
     "base_uri": "https://localhost:8080/"
    },
    "executionInfo": {
     "elapsed": 26,
     "status": "ok",
     "timestamp": 1661847747182,
     "user": {
      "displayName": "Maxime Audon",
      "userId": "01188708632553912903"
     },
     "user_tz": -120
    },
    "id": "54a4031a-e875-4b87-b117-aaa6b5c6fdb8",
    "outputId": "fd72b041-a63b-46e5-8afa-7a3ed8500987"
   },
   "outputs": [
    {
     "name": "stderr",
     "output_type": "stream",
     "text": [
      "C:\\Users\\utilisateur\\anaconda3\\lib\\site-packages\\sklearn\\utils\\deprecation.py:87: FutureWarning: Function load_boston is deprecated; `load_boston` is deprecated in 1.0 and will be removed in 1.2.\n",
      "\n",
      "    The Boston housing prices dataset has an ethical problem. You can refer to\n",
      "    the documentation of this function for further details.\n",
      "\n",
      "    The scikit-learn maintainers therefore strongly discourage the use of this\n",
      "    dataset unless the purpose of the code is to study and educate about\n",
      "    ethical issues in data science and machine learning.\n",
      "\n",
      "    In this special case, you can fetch the dataset from the original\n",
      "    source::\n",
      "\n",
      "        import pandas as pd\n",
      "        import numpy as np\n",
      "\n",
      "\n",
      "        data_url = \"http://lib.stat.cmu.edu/datasets/boston\"\n",
      "        raw_df = pd.read_csv(data_url, sep=\"\\s+\", skiprows=22, header=None)\n",
      "        data = np.hstack([raw_df.values[::2, :], raw_df.values[1::2, :2]])\n",
      "        target = raw_df.values[1::2, 2]\n",
      "\n",
      "    Alternative datasets include the California housing dataset (i.e.\n",
      "    :func:`~sklearn.datasets.fetch_california_housing`) and the Ames housing\n",
      "    dataset. You can load the datasets as follows::\n",
      "\n",
      "        from sklearn.datasets import fetch_california_housing\n",
      "        housing = fetch_california_housing()\n",
      "\n",
      "    for the California housing dataset and::\n",
      "\n",
      "        from sklearn.datasets import fetch_openml\n",
      "        housing = fetch_openml(name=\"house_prices\", as_frame=True)\n",
      "\n",
      "    for the Ames housing dataset.\n",
      "    \n",
      "  warnings.warn(msg, category=FutureWarning)\n"
     ]
    }
   ],
   "source": [
    "dataset = load_boston()"
   ]
  },
  {
   "cell_type": "code",
   "execution_count": 3,
   "id": "0ed0613e-8b55-4057-87dd-da43cb527b54",
   "metadata": {
    "colab": {
     "base_uri": "https://localhost:8080/"
    },
    "executionInfo": {
     "elapsed": 21,
     "status": "ok",
     "timestamp": 1661847747183,
     "user": {
      "displayName": "Maxime Audon",
      "userId": "01188708632553912903"
     },
     "user_tz": -120
    },
    "id": "0ed0613e-8b55-4057-87dd-da43cb527b54",
    "outputId": "ce9181f8-e14e-428e-a7f1-01abe60e66c9"
   },
   "outputs": [
    {
     "name": "stdout",
     "output_type": "stream",
     "text": [
      ".. _boston_dataset:\n",
      "\n",
      "Boston house prices dataset\n",
      "---------------------------\n",
      "\n",
      "**Data Set Characteristics:**  \n",
      "\n",
      "    :Number of Instances: 506 \n",
      "\n",
      "    :Number of Attributes: 13 numeric/categorical predictive. Median Value (attribute 14) is usually the target.\n",
      "\n",
      "    :Attribute Information (in order):\n",
      "        - CRIM     per capita crime rate by town\n",
      "        - ZN       proportion of residential land zoned for lots over 25,000 sq.ft.\n",
      "        - INDUS    proportion of non-retail business acres per town\n",
      "        - CHAS     Charles River dummy variable (= 1 if tract bounds river; 0 otherwise)\n",
      "        - NOX      nitric oxides concentration (parts per 10 million)\n",
      "        - RM       average number of rooms per dwelling\n",
      "        - AGE      proportion of owner-occupied units built prior to 1940\n",
      "        - DIS      weighted distances to five Boston employment centres\n",
      "        - RAD      index of accessibility to radial highways\n",
      "        - TAX      full-value property-tax rate per $10,000\n",
      "        - PTRATIO  pupil-teacher ratio by town\n",
      "        - B        1000(Bk - 0.63)^2 where Bk is the proportion of black people by town\n",
      "        - LSTAT    % lower status of the population\n",
      "        - MEDV     Median value of owner-occupied homes in $1000's\n",
      "\n",
      "    :Missing Attribute Values: None\n",
      "\n",
      "    :Creator: Harrison, D. and Rubinfeld, D.L.\n",
      "\n",
      "This is a copy of UCI ML housing dataset.\n",
      "https://archive.ics.uci.edu/ml/machine-learning-databases/housing/\n",
      "\n",
      "\n",
      "This dataset was taken from the StatLib library which is maintained at Carnegie Mellon University.\n",
      "\n",
      "The Boston house-price data of Harrison, D. and Rubinfeld, D.L. 'Hedonic\n",
      "prices and the demand for clean air', J. Environ. Economics & Management,\n",
      "vol.5, 81-102, 1978.   Used in Belsley, Kuh & Welsch, 'Regression diagnostics\n",
      "...', Wiley, 1980.   N.B. Various transformations are used in the table on\n",
      "pages 244-261 of the latter.\n",
      "\n",
      "The Boston house-price data has been used in many machine learning papers that address regression\n",
      "problems.   \n",
      "     \n",
      ".. topic:: References\n",
      "\n",
      "   - Belsley, Kuh & Welsch, 'Regression diagnostics: Identifying Influential Data and Sources of Collinearity', Wiley, 1980. 244-261.\n",
      "   - Quinlan,R. (1993). Combining Instance-Based and Model-Based Learning. In Proceedings on the Tenth International Conference of Machine Learning, 236-243, University of Massachusetts, Amherst. Morgan Kaufmann.\n",
      "\n"
     ]
    }
   ],
   "source": [
    "print(dataset.DESCR)"
   ]
  },
  {
   "cell_type": "markdown",
   "id": "9fb1fbb1-907d-4812-80b9-4e68503f47ed",
   "metadata": {
    "id": "9fb1fbb1-907d-4812-80b9-4e68503f47ed"
   },
   "source": [
    "## Préparation des données"
   ]
  },
  {
   "cell_type": "code",
   "execution_count": 4,
   "id": "90f192b4-91c5-4bf5-80ab-5ce43ab4cc90",
   "metadata": {
    "id": "90f192b4-91c5-4bf5-80ab-5ce43ab4cc90"
   },
   "outputs": [],
   "source": [
    "X = dataset.data"
   ]
  },
  {
   "cell_type": "code",
   "execution_count": 5,
   "id": "c87e4cdb-d558-49dc-a123-0ccfa6365228",
   "metadata": {
    "colab": {
     "base_uri": "https://localhost:8080/"
    },
    "executionInfo": {
     "elapsed": 16,
     "status": "ok",
     "timestamp": 1661847747184,
     "user": {
      "displayName": "Maxime Audon",
      "userId": "01188708632553912903"
     },
     "user_tz": -120
    },
    "id": "c87e4cdb-d558-49dc-a123-0ccfa6365228",
    "outputId": "05c9c443-729d-43d5-ee90-dd7b640b70c4"
   },
   "outputs": [
    {
     "data": {
      "text/plain": [
       "(506, 13)"
      ]
     },
     "execution_count": 5,
     "metadata": {},
     "output_type": "execute_result"
    }
   ],
   "source": [
    "X.shape"
   ]
  },
  {
   "cell_type": "code",
   "execution_count": 6,
   "id": "7c2607f3-73fd-43bd-923f-11d744131d53",
   "metadata": {
    "id": "7c2607f3-73fd-43bd-923f-11d744131d53"
   },
   "outputs": [],
   "source": [
    "y = dataset.target"
   ]
  },
  {
   "cell_type": "code",
   "execution_count": 7,
   "id": "373e0bab-2034-4b43-8d47-6ecb0962d21d",
   "metadata": {
    "colab": {
     "base_uri": "https://localhost:8080/"
    },
    "executionInfo": {
     "elapsed": 10,
     "status": "ok",
     "timestamp": 1661847747185,
     "user": {
      "displayName": "Maxime Audon",
      "userId": "01188708632553912903"
     },
     "user_tz": -120
    },
    "id": "373e0bab-2034-4b43-8d47-6ecb0962d21d",
    "outputId": "358f2821-2f5e-4443-cc6b-178c4b166b5d"
   },
   "outputs": [
    {
     "data": {
      "text/plain": [
       "(506,)"
      ]
     },
     "execution_count": 7,
     "metadata": {},
     "output_type": "execute_result"
    }
   ],
   "source": [
    "y.shape"
   ]
  },
  {
   "cell_type": "markdown",
   "id": "8db63a0c-a74b-4cab-9612-7ec130c11114",
   "metadata": {
    "id": "8db63a0c-a74b-4cab-9612-7ec130c11114"
   },
   "source": [
    "## Partitionnement des données"
   ]
  },
  {
   "cell_type": "code",
   "execution_count": 8,
   "id": "5896a41c-95e7-43a2-90e9-d592cf178ff5",
   "metadata": {
    "id": "5896a41c-95e7-43a2-90e9-d592cf178ff5"
   },
   "outputs": [],
   "source": [
    "X_train, X_test, y_train, y_test = train_test_split(X, y, test_size=0.2, random_state=42, shuffle=True)"
   ]
  },
  {
   "cell_type": "code",
   "execution_count": 9,
   "id": "de443100-54a6-491b-be4b-19376510b236",
   "metadata": {
    "colab": {
     "base_uri": "https://localhost:8080/"
    },
    "executionInfo": {
     "elapsed": 15,
     "status": "ok",
     "timestamp": 1661847747569,
     "user": {
      "displayName": "Maxime Audon",
      "userId": "01188708632553912903"
     },
     "user_tz": -120
    },
    "id": "de443100-54a6-491b-be4b-19376510b236",
    "outputId": "4c973b81-3196-4f29-b5e8-90bbbe254147"
   },
   "outputs": [
    {
     "data": {
      "text/plain": [
       "(404, 13)"
      ]
     },
     "execution_count": 9,
     "metadata": {},
     "output_type": "execute_result"
    }
   ],
   "source": [
    "X_train.shape"
   ]
  },
  {
   "cell_type": "code",
   "execution_count": 10,
   "id": "86b62be7-c6ac-44bc-bba3-f7f22303fe0b",
   "metadata": {
    "colab": {
     "base_uri": "https://localhost:8080/"
    },
    "executionInfo": {
     "elapsed": 13,
     "status": "ok",
     "timestamp": 1661847747569,
     "user": {
      "displayName": "Maxime Audon",
      "userId": "01188708632553912903"
     },
     "user_tz": -120
    },
    "id": "86b62be7-c6ac-44bc-bba3-f7f22303fe0b",
    "outputId": "11c3483d-b175-4bbe-bbc7-234f90f3b614"
   },
   "outputs": [
    {
     "data": {
      "text/plain": [
       "(404,)"
      ]
     },
     "execution_count": 10,
     "metadata": {},
     "output_type": "execute_result"
    }
   ],
   "source": [
    "y_train.shape"
   ]
  },
  {
   "cell_type": "code",
   "execution_count": 11,
   "id": "8f2139f2-c6c5-48a1-a7bb-4f8295bdf811",
   "metadata": {
    "colab": {
     "base_uri": "https://localhost:8080/"
    },
    "executionInfo": {
     "elapsed": 12,
     "status": "ok",
     "timestamp": 1661847747570,
     "user": {
      "displayName": "Maxime Audon",
      "userId": "01188708632553912903"
     },
     "user_tz": -120
    },
    "id": "8f2139f2-c6c5-48a1-a7bb-4f8295bdf811",
    "outputId": "4c045c12-3303-4a28-fc89-83705665bf7b"
   },
   "outputs": [
    {
     "data": {
      "text/plain": [
       "(102, 13)"
      ]
     },
     "execution_count": 11,
     "metadata": {},
     "output_type": "execute_result"
    }
   ],
   "source": [
    "X_test.shape"
   ]
  },
  {
   "cell_type": "code",
   "execution_count": 12,
   "id": "491d16c0-3f96-4658-bc3b-fe892e797190",
   "metadata": {
    "colab": {
     "base_uri": "https://localhost:8080/"
    },
    "executionInfo": {
     "elapsed": 10,
     "status": "ok",
     "timestamp": 1661847747570,
     "user": {
      "displayName": "Maxime Audon",
      "userId": "01188708632553912903"
     },
     "user_tz": -120
    },
    "id": "491d16c0-3f96-4658-bc3b-fe892e797190",
    "outputId": "2d1e4643-87bb-42d2-ebb9-2580ba017fd6"
   },
   "outputs": [
    {
     "data": {
      "text/plain": [
       "(102,)"
      ]
     },
     "execution_count": 12,
     "metadata": {},
     "output_type": "execute_result"
    }
   ],
   "source": [
    "y_test.shape"
   ]
  },
  {
   "cell_type": "code",
   "execution_count": 13,
   "id": "1e47f564-b632-4325-b06b-1457e2f8ef10",
   "metadata": {
    "colab": {
     "base_uri": "https://localhost:8080/",
     "height": 480
    },
    "executionInfo": {
     "elapsed": 280,
     "status": "ok",
     "timestamp": 1661847747842,
     "user": {
      "displayName": "Maxime Audon",
      "userId": "01188708632553912903"
     },
     "user_tz": -120
    },
    "id": "1e47f564-b632-4325-b06b-1457e2f8ef10",
    "outputId": "ddfec48e-0757-417d-dc18-3f081fc10834"
   },
   "outputs": [
    {
     "data": {
      "image/png": "[encoded data removed]",
      "text/plain": [
       "<Figure size 800x500 with 1 Axes>"
      ]
     },
     "metadata": {
      "needs_background": "light"
     },
     "output_type": "display_data"
    }
   ],
   "source": [
    "plt.figure(figsize=(8,5), dpi=100)\n",
    "plt.title(\"Distribution des données\")\n",
    "plt.hist(y, label=\"jeu total\")\n",
    "plt.hist(y_train, label=\"jeu d'apprentissage\")\n",
    "plt.hist(y_test, label=\"jeu de test\")\n",
    "plt.xlabel(\"Valeur du logement en milliers de dollars (MEDV)\")\n",
    "plt.ylabel(\"Nombre d'exemples\")\n",
    "plt.legend()\n",
    "plt.show()"
   ]
  },
  {
   "cell_type": "markdown",
   "id": "183fbbae-3ac4-4ae0-bd80-973fdfc27ae1",
   "metadata": {
    "id": "183fbbae-3ac4-4ae0-bd80-973fdfc27ae1"
   },
   "source": [
    "## Features Scaling"
   ]
  },
  {
   "cell_type": "code",
   "execution_count": 14,
   "id": "58ad1971-2256-4050-bc51-37edbae19b1a",
   "metadata": {
    "id": "58ad1971-2256-4050-bc51-37edbae19b1a"
   },
   "outputs": [],
   "source": [
    "scaler = MinMaxScaler()"
   ]
  },
  {
   "cell_type": "code",
   "execution_count": 15,
   "id": "e7feaac2-d7a2-4506-926a-ecfd38d982c9",
   "metadata": {
    "colab": {
     "base_uri": "https://localhost:8080/"
    },
    "executionInfo": {
     "elapsed": 5,
     "status": "ok",
     "timestamp": 1661847825094,
     "user": {
      "displayName": "Maxime Audon",
      "userId": "01188708632553912903"
     },
     "user_tz": -120
    },
    "id": "e7feaac2-d7a2-4506-926a-ecfd38d982c9",
    "outputId": "471baf8c-8950-4cd0-a87e-af6029fee9d1"
   },
   "outputs": [
    {
     "data": {
      "text/plain": [
       "MinMaxScaler()"
      ]
     },
     "execution_count": 15,
     "metadata": {},
     "output_type": "execute_result"
    }
   ],
   "source": [
    "scaler.fit(X_train)"
   ]
  },
  {
   "cell_type": "code",
   "execution_count": 16,
   "id": "f0bae369-2559-46b1-b6a5-6904729126a5",
   "metadata": {
    "id": "f0bae369-2559-46b1-b6a5-6904729126a5"
   },
   "outputs": [],
   "source": [
    "scaled_X_train = scaler.transform(X_train)\n",
    "scaled_X_test = scaler.transform(X_test)"
   ]
  },
  {
   "cell_type": "code",
   "execution_count": 17,
   "id": "e1d36e0a-0fec-4fdb-a614-dd21a750453f",
   "metadata": {
    "colab": {
     "base_uri": "https://localhost:8080/",
     "height": 769
    },
    "executionInfo": {
     "elapsed": 810,
     "status": "ok",
     "timestamp": 1661847825901,
     "user": {
      "displayName": "Maxime Audon",
      "userId": "01188708632553912903"
     },
     "user_tz": -120
    },
    "id": "e1d36e0a-0fec-4fdb-a614-dd21a750453f",
    "outputId": "3352fe01-5ec1-4291-e9d6-f3f81bcb4c57"
   },
   "outputs": [
    {
     "data": {
      "image/png": "[encoded data removed]",
      "text/plain": [
       "<Figure size 1600x1000 with 2 Axes>"
      ]
     },
     "metadata": {
      "needs_background": "light"
     },
     "output_type": "display_data"
    }
   ],
   "source": [
    "plt.figure(figsize=(16, 10), dpi=100)\n",
    "\n",
    "plt.subplot(1, 2, 1)\n",
    "plt.title('Raw Data')\n",
    "plt.boxplot(X_train)\n",
    "plt.xticks(ticks=[1, 2, 3, 4, 5, 6, 7, 8, 9, 10, 11, 12, 13], labels=dataset['feature_names'])\n",
    "plt.xlabel('Caractéristiques')\n",
    "\n",
    "plt.subplot(1, 2, 2)\n",
    "plt.title('Scaled Data')\n",
    "plt.boxplot(scaled_X_train)\n",
    "plt.xticks(ticks=[1, 2, 3, 4, 5, 6, 7, 8, 9, 10, 11, 12, 13], labels=dataset['feature_names'])\n",
    "plt.xlabel('Caractéristiques')\n",
    "\n",
    "plt.show()"
   ]
  },
  {
   "cell_type": "markdown",
   "id": "a4362e31-af04-45ab-979b-60192699cf84",
   "metadata": {
    "id": "a4362e31-af04-45ab-979b-60192699cf84"
   },
   "source": [
    "## Entrainement du modèle"
   ]
  },
  {
   "cell_type": "code",
   "execution_count": 45,
   "id": "4dbab253-070b-47cb-86e6-a7cc2908484e",
   "metadata": {
    "id": "4dbab253-070b-47cb-86e6-a7cc2908484e"
   },
   "outputs": [],
   "source": [
    "hyperparameters = {'hidden_layer_sizes': [(1,), (3,), (5,), (7,)], 'activation': ['logistic', 'tanh', 'relu']}"
   ]
  },
  {
   "cell_type": "code",
   "execution_count": 19,
   "id": "287db766-92c1-4d0b-9c4d-7fd166f20b9c",
   "metadata": {
    "id": "287db766-92c1-4d0b-9c4d-7fd166f20b9c"
   },
   "outputs": [],
   "source": [
    "model = MLPRegressor(solver='lbfgs', alpha=0.0001, max_iter=10000, random_state=0, max_fun=15000)"
   ]
  },
  {
   "cell_type": "code",
   "execution_count": 20,
   "id": "3ff0c12d-9389-4e8c-9fd9-b6b80736f784",
   "metadata": {
    "colab": {
     "base_uri": "https://localhost:8080/"
    },
    "executionInfo": {
     "elapsed": 56004,
     "status": "ok",
     "timestamp": 1661847806442,
     "user": {
      "displayName": "Maxime Audon",
      "userId": "01188708632553912903"
     },
     "user_tz": -120
    },
    "id": "3ff0c12d-9389-4e8c-9fd9-b6b80736f784",
    "outputId": "2c8115e0-f764-47e6-b3e5-5bd309f3ab4c",
    "tags": []
   },
   "outputs": [
    {
     "data": {
      "text/plain": [
       "GridSearchCV(cv=4,\n",
       "             estimator=MLPRegressor(max_iter=10000, random_state=0,\n",
       "                                    solver='lbfgs'),\n",
       "             n_jobs=-1,\n",
       "             param_grid={'activation': ['logistic', 'tanh', 'relu'],\n",
       "                         'hidden_layer_sizes': [(1,), (3,), (5,), (7,)]},\n",
       "             return_train_score=True)"
      ]
     },
     "execution_count": 20,
     "metadata": {},
     "output_type": "execute_result"
    }
   ],
   "source": [
    "gridSearchCV = GridSearchCV(model,\n",
    "                            hyperparameters,\n",
    "                            n_jobs=-1,\n",
    "                            refit=True,\n",
    "                            cv=4,\n",
    "                            return_train_score=True)\n",
    "\n",
    "gridSearchCV.fit(scaled_X_train, y_train)"
   ]
  },
  {
   "cell_type": "code",
   "execution_count": 39,
   "id": "147d1d13-6c29-4368-af50-91be0f241d93",
   "metadata": {},
   "outputs": [
    {
     "ename": "SyntaxError",
     "evalue": "EOL while scanning string literal (3923382546.py, line 1)",
     "output_type": "error",
     "traceback": [
      "\u001b[1;36m  Input \u001b[1;32mIn [40]\u001b[1;36m\u001b[0m\n\u001b[1;33m    hyperparameters = {'hidden_layer_sizes': [(1,), (3,), (5,), (7,), (9,)], 'activation': ['tanh', 'relu', 'identity’, ‘tanh’, ‘relu’] }\u001b[0m\n\u001b[1;37m                                                                                                                                         ^\u001b[0m\n\u001b[1;31mSyntaxError\u001b[0m\u001b[1;31m:\u001b[0m EOL while scanning string literal\n"
     ]
    }
   ],
   "source": [
    "hyperparameters = {'hidden_layer_sizes': [(1,), (3,), (5,), (7,), (9,)], 'activation': ['logistic', 'tanh', 'relu', 'identity’, ‘tanh’, ‘relu’]}"
   ]
  },
  {
   "cell_type": "code",
   "execution_count": 21,
   "id": "2a7e1c57-7bf8-4199-a9b9-786b74616568",
   "metadata": {
    "colab": {
     "base_uri": "https://localhost:8080/"
    },
    "executionInfo": {
     "elapsed": 366,
     "status": "ok",
     "timestamp": 1661847806792,
     "user": {
      "displayName": "Maxime Audon",
      "userId": "01188708632553912903"
     },
     "user_tz": -120
    },
    "id": "2a7e1c57-7bf8-4199-a9b9-786b74616568",
    "outputId": "67bc9da6-9374-4a56-c780-029ab3a37a2b"
   },
   "outputs": [
    {
     "data": {
      "text/plain": [
       "{'activation': 'relu', 'hidden_layer_sizes': (5,)}"
      ]
     },
     "execution_count": 21,
     "metadata": {},
     "output_type": "execute_result"
    }
   ],
   "source": [
    "gridSearchCV.best_params_"
   ]
  },
  {
   "cell_type": "code",
   "execution_count": 22,
   "id": "91eb1beb-b602-4dea-96b0-bf8f81a8d2c5",
   "metadata": {
    "colab": {
     "base_uri": "https://localhost:8080/"
    },
    "executionInfo": {
     "elapsed": 18,
     "status": "ok",
     "timestamp": 1661847806795,
     "user": {
      "displayName": "Maxime Audon",
      "userId": "01188708632553912903"
     },
     "user_tz": -120
    },
    "id": "91eb1beb-b602-4dea-96b0-bf8f81a8d2c5",
    "outputId": "8e2c14d4-7c35-42d0-e4d1-1d979dbcef6d"
   },
   "outputs": [
    {
     "data": {
      "text/html": [
       "<div>\n",
       "<style scoped>\n",
       "    .dataframe tbody tr th:only-of-type {\n",
       "        vertical-align: middle;\n",
       "    }\n",
       "\n",
       "    .dataframe tbody tr th {\n",
       "        vertical-align: top;\n",
       "    }\n",
       "\n",
       "    .dataframe thead th {\n",
       "        text-align: right;\n",
       "    }\n",
       "</style>\n",
       "<table border=\"1\" class=\"dataframe\">\n",
       "  <thead>\n",
       "    <tr style=\"text-align: right;\">\n",
       "      <th></th>\n",
       "      <th>mean_fit_time</th>\n",
       "      <th>std_fit_time</th>\n",
       "      <th>mean_score_time</th>\n",
       "      <th>std_score_time</th>\n",
       "      <th>param_activation</th>\n",
       "      <th>param_hidden_layer_sizes</th>\n",
       "      <th>params</th>\n",
       "      <th>split0_test_score</th>\n",
       "      <th>split1_test_score</th>\n",
       "      <th>split2_test_score</th>\n",
       "      <th>split3_test_score</th>\n",
       "      <th>mean_test_score</th>\n",
       "      <th>std_test_score</th>\n",
       "      <th>rank_test_score</th>\n",
       "      <th>split0_train_score</th>\n",
       "      <th>split1_train_score</th>\n",
       "      <th>split2_train_score</th>\n",
       "      <th>split3_train_score</th>\n",
       "      <th>mean_train_score</th>\n",
       "      <th>std_train_score</th>\n",
       "    </tr>\n",
       "  </thead>\n",
       "  <tbody>\n",
       "    <tr>\n",
       "      <th>0</th>\n",
       "      <td>0.277010</td>\n",
       "      <td>0.043998</td>\n",
       "      <td>0.000748</td>\n",
       "      <td>4.320522e-04</td>\n",
       "      <td>logistic</td>\n",
       "      <td>(1,)</td>\n",
       "      <td>{'activation': 'logistic', 'hidden_layer_sizes...</td>\n",
       "      <td>0.826782</td>\n",
       "      <td>0.711669</td>\n",
       "      <td>0.842931</td>\n",
       "      <td>0.750673</td>\n",
       "      <td>0.783014</td>\n",
       "      <td>0.053949</td>\n",
       "      <td>7</td>\n",
       "      <td>8.146304e-01</td>\n",
       "      <td>8.411116e-01</td>\n",
       "      <td>8.046901e-01</td>\n",
       "      <td>8.359680e-01</td>\n",
       "      <td>8.241000e-01</td>\n",
       "      <td>1.497215e-02</td>\n",
       "    </tr>\n",
       "    <tr>\n",
       "      <th>1</th>\n",
       "      <td>2.726460</td>\n",
       "      <td>1.527027</td>\n",
       "      <td>0.000997</td>\n",
       "      <td>8.150813e-07</td>\n",
       "      <td>logistic</td>\n",
       "      <td>(3,)</td>\n",
       "      <td>{'activation': 'logistic', 'hidden_layer_sizes...</td>\n",
       "      <td>0.858367</td>\n",
       "      <td>0.711247</td>\n",
       "      <td>0.730065</td>\n",
       "      <td>0.819222</td>\n",
       "      <td>0.779725</td>\n",
       "      <td>0.061033</td>\n",
       "      <td>9</td>\n",
       "      <td>9.296769e-01</td>\n",
       "      <td>8.807048e-01</td>\n",
       "      <td>9.135688e-01</td>\n",
       "      <td>9.335583e-01</td>\n",
       "      <td>9.143772e-01</td>\n",
       "      <td>2.083555e-02</td>\n",
       "    </tr>\n",
       "    <tr>\n",
       "      <th>2</th>\n",
       "      <td>4.701432</td>\n",
       "      <td>3.525468</td>\n",
       "      <td>0.004734</td>\n",
       "      <td>7.067116e-03</td>\n",
       "      <td>logistic</td>\n",
       "      <td>(5,)</td>\n",
       "      <td>{'activation': 'logistic', 'hidden_layer_sizes...</td>\n",
       "      <td>0.855869</td>\n",
       "      <td>0.765174</td>\n",
       "      <td>0.826193</td>\n",
       "      <td>0.788227</td>\n",
       "      <td>0.808866</td>\n",
       "      <td>0.034801</td>\n",
       "      <td>4</td>\n",
       "      <td>9.242951e-01</td>\n",
       "      <td>8.951455e-01</td>\n",
       "      <td>9.228055e-01</td>\n",
       "      <td>9.363521e-01</td>\n",
       "      <td>9.196495e-01</td>\n",
       "      <td>1.509111e-02</td>\n",
       "    </tr>\n",
       "    <tr>\n",
       "      <th>3</th>\n",
       "      <td>7.712376</td>\n",
       "      <td>1.051403</td>\n",
       "      <td>0.001746</td>\n",
       "      <td>1.295365e-03</td>\n",
       "      <td>logistic</td>\n",
       "      <td>(7,)</td>\n",
       "      <td>{'activation': 'logistic', 'hidden_layer_sizes...</td>\n",
       "      <td>0.778921</td>\n",
       "      <td>0.734877</td>\n",
       "      <td>0.815684</td>\n",
       "      <td>0.801303</td>\n",
       "      <td>0.782696</td>\n",
       "      <td>0.030559</td>\n",
       "      <td>8</td>\n",
       "      <td>9.711131e-01</td>\n",
       "      <td>9.603845e-01</td>\n",
       "      <td>9.697891e-01</td>\n",
       "      <td>9.597514e-01</td>\n",
       "      <td>9.652595e-01</td>\n",
       "      <td>5.217473e-03</td>\n",
       "    </tr>\n",
       "    <tr>\n",
       "      <th>4</th>\n",
       "      <td>0.004988</td>\n",
       "      <td>0.001221</td>\n",
       "      <td>0.000748</td>\n",
       "      <td>4.317769e-04</td>\n",
       "      <td>tanh</td>\n",
       "      <td>(1,)</td>\n",
       "      <td>{'activation': 'tanh', 'hidden_layer_sizes': (...</td>\n",
       "      <td>-0.021861</td>\n",
       "      <td>-0.006522</td>\n",
       "      <td>-0.005317</td>\n",
       "      <td>-0.000586</td>\n",
       "      <td>-0.008572</td>\n",
       "      <td>0.007987</td>\n",
       "      <td>11</td>\n",
       "      <td>-2.005063e-13</td>\n",
       "      <td>-1.498801e-13</td>\n",
       "      <td>-2.173817e-13</td>\n",
       "      <td>-2.369216e-13</td>\n",
       "      <td>-2.011724e-13</td>\n",
       "      <td>3.229585e-14</td>\n",
       "    </tr>\n",
       "    <tr>\n",
       "      <th>5</th>\n",
       "      <td>0.254818</td>\n",
       "      <td>0.009986</td>\n",
       "      <td>0.000749</td>\n",
       "      <td>4.324310e-04</td>\n",
       "      <td>tanh</td>\n",
       "      <td>(3,)</td>\n",
       "      <td>{'activation': 'tanh', 'hidden_layer_sizes': (...</td>\n",
       "      <td>0.826812</td>\n",
       "      <td>0.712009</td>\n",
       "      <td>0.842701</td>\n",
       "      <td>0.750751</td>\n",
       "      <td>0.783068</td>\n",
       "      <td>0.053767</td>\n",
       "      <td>6</td>\n",
       "      <td>8.148548e-01</td>\n",
       "      <td>8.411710e-01</td>\n",
       "      <td>8.049781e-01</td>\n",
       "      <td>8.361801e-01</td>\n",
       "      <td>8.242960e-01</td>\n",
       "      <td>1.490229e-02</td>\n",
       "    </tr>\n",
       "    <tr>\n",
       "      <th>6</th>\n",
       "      <td>3.223630</td>\n",
       "      <td>2.390074</td>\n",
       "      <td>0.000499</td>\n",
       "      <td>4.988313e-04</td>\n",
       "      <td>tanh</td>\n",
       "      <td>(5,)</td>\n",
       "      <td>{'activation': 'tanh', 'hidden_layer_sizes': (...</td>\n",
       "      <td>0.860397</td>\n",
       "      <td>0.775567</td>\n",
       "      <td>0.832886</td>\n",
       "      <td>0.803704</td>\n",
       "      <td>0.818139</td>\n",
       "      <td>0.031717</td>\n",
       "      <td>3</td>\n",
       "      <td>9.322361e-01</td>\n",
       "      <td>9.096129e-01</td>\n",
       "      <td>8.495927e-01</td>\n",
       "      <td>8.575133e-01</td>\n",
       "      <td>8.872388e-01</td>\n",
       "      <td>3.473539e-02</td>\n",
       "    </tr>\n",
       "    <tr>\n",
       "      <th>7</th>\n",
       "      <td>5.136763</td>\n",
       "      <td>0.337592</td>\n",
       "      <td>0.000748</td>\n",
       "      <td>4.316395e-04</td>\n",
       "      <td>tanh</td>\n",
       "      <td>(7,)</td>\n",
       "      <td>{'activation': 'tanh', 'hidden_layer_sizes': (...</td>\n",
       "      <td>0.805255</td>\n",
       "      <td>0.772154</td>\n",
       "      <td>0.892151</td>\n",
       "      <td>0.808821</td>\n",
       "      <td>0.819595</td>\n",
       "      <td>0.044263</td>\n",
       "      <td>2</td>\n",
       "      <td>9.029626e-01</td>\n",
       "      <td>8.948585e-01</td>\n",
       "      <td>8.817355e-01</td>\n",
       "      <td>9.304538e-01</td>\n",
       "      <td>9.025026e-01</td>\n",
       "      <td>1.782684e-02</td>\n",
       "    </tr>\n",
       "    <tr>\n",
       "      <th>8</th>\n",
       "      <td>0.004737</td>\n",
       "      <td>0.000432</td>\n",
       "      <td>0.000499</td>\n",
       "      <td>4.990697e-04</td>\n",
       "      <td>relu</td>\n",
       "      <td>(1,)</td>\n",
       "      <td>{'activation': 'relu', 'hidden_layer_sizes': (...</td>\n",
       "      <td>-0.021862</td>\n",
       "      <td>-0.006522</td>\n",
       "      <td>-0.005317</td>\n",
       "      <td>-0.000586</td>\n",
       "      <td>-0.008572</td>\n",
       "      <td>0.007987</td>\n",
       "      <td>12</td>\n",
       "      <td>-2.886580e-15</td>\n",
       "      <td>-2.442491e-15</td>\n",
       "      <td>-8.659740e-15</td>\n",
       "      <td>-2.886580e-15</td>\n",
       "      <td>-4.218847e-15</td>\n",
       "      <td>2.570352e-15</td>\n",
       "    </tr>\n",
       "    <tr>\n",
       "      <th>9</th>\n",
       "      <td>0.608124</td>\n",
       "      <td>0.144844</td>\n",
       "      <td>0.000998</td>\n",
       "      <td>2.665601e-07</td>\n",
       "      <td>relu</td>\n",
       "      <td>(3,)</td>\n",
       "      <td>{'activation': 'relu', 'hidden_layer_sizes': (...</td>\n",
       "      <td>0.824494</td>\n",
       "      <td>0.730481</td>\n",
       "      <td>0.605080</td>\n",
       "      <td>0.779526</td>\n",
       "      <td>0.734895</td>\n",
       "      <td>0.081993</td>\n",
       "      <td>10</td>\n",
       "      <td>8.286240e-01</td>\n",
       "      <td>8.577304e-01</td>\n",
       "      <td>7.875205e-01</td>\n",
       "      <td>9.205311e-01</td>\n",
       "      <td>8.486015e-01</td>\n",
       "      <td>4.844379e-02</td>\n",
       "    </tr>\n",
       "    <tr>\n",
       "      <th>10</th>\n",
       "      <td>0.309672</td>\n",
       "      <td>0.076394</td>\n",
       "      <td>0.000499</td>\n",
       "      <td>4.985929e-04</td>\n",
       "      <td>relu</td>\n",
       "      <td>(5,)</td>\n",
       "      <td>{'activation': 'relu', 'hidden_layer_sizes': (...</td>\n",
       "      <td>0.854739</td>\n",
       "      <td>0.723674</td>\n",
       "      <td>0.921768</td>\n",
       "      <td>0.819205</td>\n",
       "      <td>0.829846</td>\n",
       "      <td>0.071511</td>\n",
       "      <td>1</td>\n",
       "      <td>9.045886e-01</td>\n",
       "      <td>8.844037e-01</td>\n",
       "      <td>9.040492e-01</td>\n",
       "      <td>9.323958e-01</td>\n",
       "      <td>9.063593e-01</td>\n",
       "      <td>1.709110e-02</td>\n",
       "    </tr>\n",
       "    <tr>\n",
       "      <th>11</th>\n",
       "      <td>0.317402</td>\n",
       "      <td>0.053212</td>\n",
       "      <td>0.000499</td>\n",
       "      <td>4.987717e-04</td>\n",
       "      <td>relu</td>\n",
       "      <td>(7,)</td>\n",
       "      <td>{'activation': 'relu', 'hidden_layer_sizes': (...</td>\n",
       "      <td>0.848683</td>\n",
       "      <td>0.750826</td>\n",
       "      <td>0.852106</td>\n",
       "      <td>0.766816</td>\n",
       "      <td>0.804608</td>\n",
       "      <td>0.046151</td>\n",
       "      <td>5</td>\n",
       "      <td>8.337923e-01</td>\n",
       "      <td>8.652845e-01</td>\n",
       "      <td>8.346200e-01</td>\n",
       "      <td>8.697711e-01</td>\n",
       "      <td>8.508670e-01</td>\n",
       "      <td>1.673875e-02</td>\n",
       "    </tr>\n",
       "  </tbody>\n",
       "</table>\n",
       "</div>"
      ],
      "text/plain": [
       "    mean_fit_time  std_fit_time  mean_score_time  std_score_time  \\\n",
       "0        0.277010      0.043998         0.000748    4.320522e-04   \n",
       "1        2.726460      1.527027         0.000997    8.150813e-07   \n",
       "2        4.701432      3.525468         0.004734    7.067116e-03   \n",
       "3        7.712376      1.051403         0.001746    1.295365e-03   \n",
       "4        0.004988      0.001221         0.000748    4.317769e-04   \n",
       "5        0.254818      0.009986         0.000749    4.324310e-04   \n",
       "6        3.223630      2.390074         0.000499    4.988313e-04   \n",
       "7        5.136763      0.337592         0.000748    4.316395e-04   \n",
       "8        0.004737      0.000432         0.000499    4.990697e-04   \n",
       "9        0.608124      0.144844         0.000998    2.665601e-07   \n",
       "10       0.309672      0.076394         0.000499    4.985929e-04   \n",
       "11       0.317402      0.053212         0.000499    4.987717e-04   \n",
       "\n",
       "   param_activation param_hidden_layer_sizes  \\\n",
       "0          logistic                     (1,)   \n",
       "1          logistic                     (3,)   \n",
       "2          logistic                     (5,)   \n",
       "3          logistic                     (7,)   \n",
       "4              tanh                     (1,)   \n",
       "5              tanh                     (3,)   \n",
       "6              tanh                     (5,)   \n",
       "7              tanh                     (7,)   \n",
       "8              relu                     (1,)   \n",
       "9              relu                     (3,)   \n",
       "10             relu                     (5,)   \n",
       "11             relu                     (7,)   \n",
       "\n",
       "                                               params  split0_test_score  \\\n",
       "0   {'activation': 'logistic', 'hidden_layer_sizes...           0.826782   \n",
       "1   {'activation': 'logistic', 'hidden_layer_sizes...           0.858367   \n",
       "2   {'activation': 'logistic', 'hidden_layer_sizes...           0.855869   \n",
       "3   {'activation': 'logistic', 'hidden_layer_sizes...           0.778921   \n",
       "4   {'activation': 'tanh', 'hidden_layer_sizes': (...          -0.021861   \n",
       "5   {'activation': 'tanh', 'hidden_layer_sizes': (...           0.826812   \n",
       "6   {'activation': 'tanh', 'hidden_layer_sizes': (...           0.860397   \n",
       "7   {'activation': 'tanh', 'hidden_layer_sizes': (...           0.805255   \n",
       "8   {'activation': 'relu', 'hidden_layer_sizes': (...          -0.021862   \n",
       "9   {'activation': 'relu', 'hidden_layer_sizes': (...           0.824494   \n",
       "10  {'activation': 'relu', 'hidden_layer_sizes': (...           0.854739   \n",
       "11  {'activation': 'relu', 'hidden_layer_sizes': (...           0.848683   \n",
       "\n",
       "    split1_test_score  split2_test_score  split3_test_score  mean_test_score  \\\n",
       "0            0.711669           0.842931           0.750673         0.783014   \n",
       "1            0.711247           0.730065           0.819222         0.779725   \n",
       "2            0.765174           0.826193           0.788227         0.808866   \n",
       "3            0.734877           0.815684           0.801303         0.782696   \n",
       "4           -0.006522          -0.005317          -0.000586        -0.008572   \n",
       "5            0.712009           0.842701           0.750751         0.783068   \n",
       "6            0.775567           0.832886           0.803704         0.818139   \n",
       "7            0.772154           0.892151           0.808821         0.819595   \n",
       "8           -0.006522          -0.005317          -0.000586        -0.008572   \n",
       "9            0.730481           0.605080           0.779526         0.734895   \n",
       "10           0.723674           0.921768           0.819205         0.829846   \n",
       "11           0.750826           0.852106           0.766816         0.804608   \n",
       "\n",
       "    std_test_score  rank_test_score  split0_train_score  split1_train_score  \\\n",
       "0         0.053949                7        8.146304e-01        8.411116e-01   \n",
       "1         0.061033                9        9.296769e-01        8.807048e-01   \n",
       "2         0.034801                4        9.242951e-01        8.951455e-01   \n",
       "3         0.030559                8        9.711131e-01        9.603845e-01   \n",
       "4         0.007987               11       -2.005063e-13       -1.498801e-13   \n",
       "5         0.053767                6        8.148548e-01        8.411710e-01   \n",
       "6         0.031717                3        9.322361e-01        9.096129e-01   \n",
       "7         0.044263                2        9.029626e-01        8.948585e-01   \n",
       "8         0.007987               12       -2.886580e-15       -2.442491e-15   \n",
       "9         0.081993               10        8.286240e-01        8.577304e-01   \n",
       "10        0.071511                1        9.045886e-01        8.844037e-01   \n",
       "11        0.046151                5        8.337923e-01        8.652845e-01   \n",
       "\n",
       "    split2_train_score  split3_train_score  mean_train_score  std_train_score  \n",
       "0         8.046901e-01        8.359680e-01      8.241000e-01     1.497215e-02  \n",
       "1         9.135688e-01        9.335583e-01      9.143772e-01     2.083555e-02  \n",
       "2         9.228055e-01        9.363521e-01      9.196495e-01     1.509111e-02  \n",
       "3         9.697891e-01        9.597514e-01      9.652595e-01     5.217473e-03  \n",
       "4        -2.173817e-13       -2.369216e-13     -2.011724e-13     3.229585e-14  \n",
       "5         8.049781e-01        8.361801e-01      8.242960e-01     1.490229e-02  \n",
       "6         8.495927e-01        8.575133e-01      8.872388e-01     3.473539e-02  \n",
       "7         8.817355e-01        9.304538e-01      9.025026e-01     1.782684e-02  \n",
       "8        -8.659740e-15       -2.886580e-15     -4.218847e-15     2.570352e-15  \n",
       "9         7.875205e-01        9.205311e-01      8.486015e-01     4.844379e-02  \n",
       "10        9.040492e-01        9.323958e-01      9.063593e-01     1.709110e-02  \n",
       "11        8.346200e-01        8.697711e-01      8.508670e-01     1.673875e-02  "
      ]
     },
     "execution_count": 22,
     "metadata": {},
     "output_type": "execute_result"
    }
   ],
   "source": [
    "pd.DataFrame(gridSearchCV.cv_results_)"
   ]
  },
  {
   "cell_type": "markdown",
   "id": "380b55c8-0387-4a27-ac12-3f156bd96cd1",
   "metadata": {
    "id": "380b55c8-0387-4a27-ac12-3f156bd96cd1"
   },
   "source": [
    "## Evaluation des performances du modèle sur le jeu d'apprentissage"
   ]
  },
  {
   "cell_type": "code",
   "execution_count": 23,
   "id": "d69f23f1-eda0-4a1c-abd4-cd51316e7651",
   "metadata": {
    "id": "d69f23f1-eda0-4a1c-abd4-cd51316e7651"
   },
   "outputs": [],
   "source": [
    "y_predict_train = gridSearchCV.best_estimator_.predict(scaled_X_train)"
   ]
  },
  {
   "cell_type": "markdown",
   "id": "6ef1fb17-25f2-4d7f-8178-0ef7c197eed8",
   "metadata": {
    "id": "6ef1fb17-25f2-4d7f-8178-0ef7c197eed8"
   },
   "source": [
    "## Erreur quadratique moyenne"
   ]
  },
  {
   "cell_type": "markdown",
   "id": "e4e90b4c-cefa-43e9-9d40-9fd1441ebb62",
   "metadata": {
    "id": "e4e90b4c-cefa-43e9-9d40-9fd1441ebb62"
   },
   "source": [
    "$ MSE = \\displaystyle\\frac{1}{n} \\sum_{i=1}^{n} (y_{i} - \\hat{y_{i}})^{2} $"
   ]
  },
  {
   "cell_type": "code",
   "execution_count": 24,
   "id": "497b350d-5321-40a0-ac24-38bcc13d35b0",
   "metadata": {
    "id": "497b350d-5321-40a0-ac24-38bcc13d35b0"
   },
   "outputs": [],
   "source": [
    "MSE_train = mean_squared_error(y_train, y_predict_train)"
   ]
  },
  {
   "cell_type": "code",
   "execution_count": 25,
   "id": "9c831678-d4cc-42d4-ae3b-a3021f7e5253",
   "metadata": {
    "colab": {
     "base_uri": "https://localhost:8080/"
    },
    "executionInfo": {
     "elapsed": 17,
     "status": "ok",
     "timestamp": 1661847806797,
     "user": {
      "displayName": "Maxime Audon",
      "userId": "01188708632553912903"
     },
     "user_tz": -120
    },
    "id": "9c831678-d4cc-42d4-ae3b-a3021f7e5253",
    "outputId": "58957e20-460e-4b88-9f1b-4d92e932d755"
   },
   "outputs": [
    {
     "name": "stdout",
     "output_type": "stream",
     "text": [
      "L'erreur quadratique moyenne vaut : 7.12\n"
     ]
    }
   ],
   "source": [
    "print(\"L'erreur quadratique moyenne vaut :\", MSE_train.round(2))"
   ]
  },
  {
   "cell_type": "markdown",
   "id": "f5d15ca8-6855-4d47-a705-e9af4bbd0d34",
   "metadata": {
    "id": "f5d15ca8-6855-4d47-a705-e9af4bbd0d34"
   },
   "source": [
    "## Racine carrée de l'erreur quadratique moyenne"
   ]
  },
  {
   "cell_type": "markdown",
   "id": "9e7a68b9-0e67-4134-b0a1-3f6b0488c53b",
   "metadata": {
    "id": "9e7a68b9-0e67-4134-b0a1-3f6b0488c53b"
   },
   "source": [
    "$ RMSE = \\displaystyle\\sqrt{\\frac{1}{n} \\sum_{i=1}^{n} (y_{i} - \\hat{y_{i}})^{2}} $"
   ]
  },
  {
   "cell_type": "code",
   "execution_count": 26,
   "id": "0b9869aa-4dac-4c86-abcd-c684cee53711",
   "metadata": {
    "id": "0b9869aa-4dac-4c86-abcd-c684cee53711"
   },
   "outputs": [],
   "source": [
    "RMSE_train = mean_squared_error(y_train, y_predict_train, squared=False)"
   ]
  },
  {
   "cell_type": "code",
   "execution_count": 27,
   "id": "d8928763-23da-4ed7-b173-e059e58cf9bb",
   "metadata": {
    "colab": {
     "base_uri": "https://localhost:8080/"
    },
    "executionInfo": {
     "elapsed": 19,
     "status": "ok",
     "timestamp": 1661847806801,
     "user": {
      "displayName": "Maxime Audon",
      "userId": "01188708632553912903"
     },
     "user_tz": -120
    },
    "id": "d8928763-23da-4ed7-b173-e059e58cf9bb",
    "outputId": "33e77cc3-e599-4615-9611-1b73b30624ac"
   },
   "outputs": [
    {
     "name": "stdout",
     "output_type": "stream",
     "text": [
      "La racine carrée de l'erreur quadratique moyenne vaut : 2.67\n"
     ]
    }
   ],
   "source": [
    "print(\"La racine carrée de l'erreur quadratique moyenne vaut :\", RMSE_train.round(2))"
   ]
  },
  {
   "cell_type": "markdown",
   "id": "de10aa36-cf8e-4ff6-8a2b-98312b313bec",
   "metadata": {
    "id": "de10aa36-cf8e-4ff6-8a2b-98312b313bec"
   },
   "source": [
    "## Coefficient de détermination"
   ]
  },
  {
   "cell_type": "markdown",
   "id": "b8df9657-788d-401a-9fbd-1335b21269dc",
   "metadata": {
    "id": "b8df9657-788d-401a-9fbd-1335b21269dc"
   },
   "source": [
    "$ R^{2} = 1 - \\displaystyle\\frac{\\sum_{i=1}^{n} (y_{i} - \\hat{y_{i}})^{2}}{\\sum_{i=1}^{n} (y_{i} - \\bar{y})^{2}} $"
   ]
  },
  {
   "cell_type": "code",
   "execution_count": 28,
   "id": "e798b6d9-a09c-4bc6-9409-042fb663faa6",
   "metadata": {
    "id": "e798b6d9-a09c-4bc6-9409-042fb663faa6"
   },
   "outputs": [],
   "source": [
    "R_squared_train = 1.0 - (np.sum((y_train - y_predict_train)**2) / np.sum((y_train - np.mean(y_train))**2))"
   ]
  },
  {
   "cell_type": "code",
   "execution_count": 29,
   "id": "7afaa55a-62c1-4794-97b6-dc4dfd55291f",
   "metadata": {
    "colab": {
     "base_uri": "https://localhost:8080/"
    },
    "executionInfo": {
     "elapsed": 21,
     "status": "ok",
     "timestamp": 1661847806804,
     "user": {
      "displayName": "Maxime Audon",
      "userId": "01188708632553912903"
     },
     "user_tz": -120
    },
    "id": "7afaa55a-62c1-4794-97b6-dc4dfd55291f",
    "outputId": "7cc7be61-9485-468b-d170-3c9c199328d9"
   },
   "outputs": [
    {
     "name": "stdout",
     "output_type": "stream",
     "text": [
      "Le coefficient de détermination vaut : 0.9181\n"
     ]
    }
   ],
   "source": [
    "print(\"Le coefficient de détermination vaut :\", R_squared_train.round(4))"
   ]
  },
  {
   "cell_type": "markdown",
   "id": "add2f453-389d-41fc-85f0-63625e4f8038",
   "metadata": {
    "id": "add2f453-389d-41fc-85f0-63625e4f8038"
   },
   "source": [
    "## Droite de régression"
   ]
  },
  {
   "cell_type": "markdown",
   "id": "cc6ad6d6-b438-4f18-8d82-e35b0e9a5636",
   "metadata": {
    "id": "cc6ad6d6-b438-4f18-8d82-e35b0e9a5636"
   },
   "source": [
    "$ y = a * x + b $"
   ]
  },
  {
   "cell_type": "code",
   "execution_count": 30,
   "id": "02912067-34a4-47f9-b0fb-7a2d16ba70fc",
   "metadata": {
    "id": "02912067-34a4-47f9-b0fb-7a2d16ba70fc"
   },
   "outputs": [],
   "source": [
    "a_train, b_train = np.polyfit(y_train, y_predict_train, 1)"
   ]
  },
  {
   "cell_type": "code",
   "execution_count": 31,
   "id": "7902348a-9242-4bf9-81de-3a85968dc2f5",
   "metadata": {
    "colab": {
     "base_uri": "https://localhost:8080/"
    },
    "executionInfo": {
     "elapsed": 28,
     "status": "ok",
     "timestamp": 1661847806812,
     "user": {
      "displayName": "Maxime Audon",
      "userId": "01188708632553912903"
     },
     "user_tz": -120
    },
    "id": "7902348a-9242-4bf9-81de-3a85968dc2f5",
    "outputId": "dcdd0c46-b04f-4b07-e862-4ca7186fac69"
   },
   "outputs": [
    {
     "name": "stdout",
     "output_type": "stream",
     "text": [
      "Le coefficient directeur de la droite vaut : 0.92\n"
     ]
    }
   ],
   "source": [
    "print(\"Le coefficient directeur de la droite vaut :\", a_train.round(2))"
   ]
  },
  {
   "cell_type": "code",
   "execution_count": 32,
   "id": "068c0cad-5db5-4563-b401-6ab64a5efe44",
   "metadata": {
    "colab": {
     "base_uri": "https://localhost:8080/"
    },
    "executionInfo": {
     "elapsed": 29,
     "status": "ok",
     "timestamp": 1661847806814,
     "user": {
      "displayName": "Maxime Audon",
      "userId": "01188708632553912903"
     },
     "user_tz": -120
    },
    "id": "068c0cad-5db5-4563-b401-6ab64a5efe44",
    "outputId": "6d99fe5c-4c8b-45e5-9291-e7d3f67cb090"
   },
   "outputs": [
    {
     "name": "stdout",
     "output_type": "stream",
     "text": [
      "L'ordonnée à l'origine de la droite vaut: 1.87\n"
     ]
    }
   ],
   "source": [
    "print(\"L'ordonnée à l'origine de la droite vaut:\", b_train.round(2))"
   ]
  },
  {
   "cell_type": "markdown",
   "id": "ce8bdac1-c6cc-42f0-b220-18f3773a4bd8",
   "metadata": {
    "id": "ce8bdac1-c6cc-42f0-b220-18f3773a4bd8"
   },
   "source": [
    "## Synthèse des performances du modèle sur le jeu d'apprentissage"
   ]
  },
  {
   "cell_type": "code",
   "execution_count": 33,
   "id": "b0b4b429-d371-4536-832b-f078efdcfdb2",
   "metadata": {
    "colab": {
     "base_uri": "https://localhost:8080/"
    },
    "executionInfo": {
     "elapsed": 429,
     "status": "ok",
     "timestamp": 1661847807215,
     "user": {
      "displayName": "Maxime Audon",
      "userId": "01188708632553912903"
     },
     "user_tz": -120
    },
    "id": "b0b4b429-d371-4536-832b-f078efdcfdb2",
    "outputId": "15092a41-c7f0-4f86-bb5a-a9a80530ffdf"
   },
   "outputs": [
    {
     "data": {
      "image/png": "[encoded data removed]",
      "text/plain": [
       "<Figure size 800x500 with 1 Axes>"
      ]
     },
     "metadata": {
      "needs_background": "light"
     },
     "output_type": "display_data"
    }
   ],
   "source": [
    "plt.figure(figsize=(8,5), dpi=100)\n",
    "plt.title(\"Jeu d'apprentissage : RMSE = \" + str(RMSE_train.round(2)) + \", R² = \" + str(R_squared_train.round(2)))\n",
    "plt.plot(y_train, y_predict_train, 'o')\n",
    "plt.plot(y_train, a_train * y_train + b_train, label=\"y = \" + str(a_train.round(2)) + \"x + \" + str(b_train.round(2)))\n",
    "plt.plot(y_train, y_train, label=\"y = x\")\n",
    "plt.xlabel(\"valeurs réelles (k$)\")\n",
    "plt.ylabel(\"valeurs prédites (k$)\")\n",
    "plt.legend()\n",
    "plt.show()"
   ]
  },
  {
   "cell_type": "markdown",
   "id": "09a324cc-2edb-4c5f-8ea5-775bcac1b48d",
   "metadata": {
    "id": "09a324cc-2edb-4c5f-8ea5-775bcac1b48d"
   },
   "source": [
    "## Evaluation des performances du modèle sur le jeu de test"
   ]
  },
  {
   "cell_type": "code",
   "execution_count": 34,
   "id": "41f69eed-f1a8-450c-93c9-dc0c506ca6eb",
   "metadata": {
    "id": "41f69eed-f1a8-450c-93c9-dc0c506ca6eb"
   },
   "outputs": [],
   "source": [
    "y_predict_test = gridSearchCV.best_estimator_.predict(scaled_X_test)"
   ]
  },
  {
   "cell_type": "markdown",
   "id": "01785f0b-1c9c-4449-9fa3-3bef57aa1534",
   "metadata": {
    "id": "01785f0b-1c9c-4449-9fa3-3bef57aa1534"
   },
   "source": [
    "## Erreur quadratique moyenne"
   ]
  },
  {
   "cell_type": "markdown",
   "id": "dad4e6fa-9aac-498b-8a69-684353e9d982",
   "metadata": {
    "id": "dad4e6fa-9aac-498b-8a69-684353e9d982"
   },
   "source": [
    "$ MSE = \\displaystyle\\frac{1}{n} \\sum_{i=1}^{n} (y_{i} - \\hat{y_{i}})^{2} $"
   ]
  },
  {
   "cell_type": "code",
   "execution_count": 35,
   "id": "08e8ea2f-3a59-418f-9ba3-f856e9cfce92",
   "metadata": {
    "id": "08e8ea2f-3a59-418f-9ba3-f856e9cfce92"
   },
   "outputs": [],
   "source": [
    "MSE_test = mean_squared_error(y_test, y_predict_test)"
   ]
  },
  {
   "cell_type": "code",
   "execution_count": 36,
   "id": "5b4665f6-9565-4f05-a9ee-8f60f66d97a2",
   "metadata": {
    "colab": {
     "base_uri": "https://localhost:8080/"
    },
    "executionInfo": {
     "elapsed": 20,
     "status": "ok",
     "timestamp": 1661847807221,
     "user": {
      "displayName": "Maxime Audon",
      "userId": "01188708632553912903"
     },
     "user_tz": -120
    },
    "id": "5b4665f6-9565-4f05-a9ee-8f60f66d97a2",
    "outputId": "0761d26d-ab49-41e8-e0b0-69b28f16b0b0"
   },
   "outputs": [
    {
     "name": "stdout",
     "output_type": "stream",
     "text": [
      "L'erreur quadratique moyenne vaut : 10.58\n"
     ]
    }
   ],
   "source": [
    "print(\"L'erreur quadratique moyenne vaut :\", MSE_test.round(2))"
   ]
  },
  {
   "cell_type": "markdown",
   "id": "5588399e-7d1c-4e80-9c00-6bc2ebd6d88f",
   "metadata": {
    "id": "5588399e-7d1c-4e80-9c00-6bc2ebd6d88f"
   },
   "source": [
    "## Racine carrée de l'erreur quadratique moyenne"
   ]
  },
  {
   "cell_type": "markdown",
   "id": "403530d7-140e-4e38-b4a0-12e132121fbc",
   "metadata": {
    "id": "403530d7-140e-4e38-b4a0-12e132121fbc"
   },
   "source": [
    "$ RMSE = \\displaystyle\\sqrt{\\frac{1}{n} \\sum_{i=1}^{n} (y_{i} - \\hat{y_{i}})^{2}} $"
   ]
  },
  {
   "cell_type": "code",
   "execution_count": 37,
   "id": "6e3fb91f-ca25-469c-817a-e9c93bec95b1",
   "metadata": {
    "id": "6e3fb91f-ca25-469c-817a-e9c93bec95b1"
   },
   "outputs": [],
   "source": [
    "RMSE_test = mean_squared_error(y_test, y_predict_test, squared=False)"
   ]
  },
  {
   "cell_type": "code",
   "execution_count": 38,
   "id": "2b1f0c37-bf16-461e-97eb-f8cc6435eb52",
   "metadata": {
    "colab": {
     "base_uri": "https://localhost:8080/"
    },
    "executionInfo": {
     "elapsed": 20,
     "status": "ok",
     "timestamp": 1661847807223,
     "user": {
      "displayName": "Maxime Audon",
      "userId": "01188708632553912903"
     },
     "user_tz": -120
    },
    "id": "2b1f0c37-bf16-461e-97eb-f8cc6435eb52",
    "outputId": "9aa516b9-6014-4fcf-e565-6ed970854dbe"
   },
   "outputs": [
    {
     "name": "stdout",
     "output_type": "stream",
     "text": [
      "La racine carrée de l'erreur quadratique moyenne vaut : 3.25\n"
     ]
    }
   ],
   "source": [
    "print(\"La racine carrée de l'erreur quadratique moyenne vaut :\", RMSE_test.round(2))"
   ]
  },
  {
   "cell_type": "markdown",
   "id": "a032f1af-0810-4af3-bdfd-453a38aff5c1",
   "metadata": {
    "id": "a032f1af-0810-4af3-bdfd-453a38aff5c1"
   },
   "source": [
    "## Coefficient de détermination"
   ]
  },
  {
   "cell_type": "markdown",
   "id": "cb7c3c18-eb98-4b23-a574-f00574e75fb5",
   "metadata": {
    "id": "cb7c3c18-eb98-4b23-a574-f00574e75fb5"
   },
   "source": [
    "$ R^{2} = 1 - \\displaystyle\\frac{\\sum_{i=1}^{n} (y_{i} - \\hat{y_{i}})^{2}}{\\sum_{i=1}^{n} (y_{i} - \\bar{y})^{2}} $"
   ]
  },
  {
   "cell_type": "code",
   "execution_count": 39,
   "id": "4db00a02-1e0d-4d4d-92eb-0855a1b25d15",
   "metadata": {
    "id": "4db00a02-1e0d-4d4d-92eb-0855a1b25d15"
   },
   "outputs": [],
   "source": [
    "R_squared_test = 1.0 - (np.sum((y_test - y_predict_test)**2) / np.sum((y_test - np.mean(y_test))**2))"
   ]
  },
  {
   "cell_type": "code",
   "execution_count": 40,
   "id": "d74e8c1e-2b7c-443a-921c-e715f29e57c4",
   "metadata": {
    "colab": {
     "base_uri": "https://localhost:8080/"
    },
    "executionInfo": {
     "elapsed": 20,
     "status": "ok",
     "timestamp": 1661847807225,
     "user": {
      "displayName": "Maxime Audon",
      "userId": "01188708632553912903"
     },
     "user_tz": -120
    },
    "id": "d74e8c1e-2b7c-443a-921c-e715f29e57c4",
    "outputId": "43b2e41d-27fa-48b1-a792-8cb8a3640ea9"
   },
   "outputs": [
    {
     "name": "stdout",
     "output_type": "stream",
     "text": [
      "Le coefficient de détermination vaut : 0.8558\n"
     ]
    }
   ],
   "source": [
    "print(\"Le coefficient de détermination vaut :\", R_squared_test.round(4))"
   ]
  },
  {
   "cell_type": "markdown",
   "id": "71db0b6d-8482-40bb-9450-321903ae3b11",
   "metadata": {
    "id": "71db0b6d-8482-40bb-9450-321903ae3b11"
   },
   "source": [
    "## Droite de régression"
   ]
  },
  {
   "cell_type": "markdown",
   "id": "9eba09f7-b292-4785-9ddc-766cba891c06",
   "metadata": {
    "id": "9eba09f7-b292-4785-9ddc-766cba891c06"
   },
   "source": [
    "$ y = a * x + b $"
   ]
  },
  {
   "cell_type": "code",
   "execution_count": 41,
   "id": "638149a9-0d13-44dc-a39a-e1a272175751",
   "metadata": {
    "id": "638149a9-0d13-44dc-a39a-e1a272175751"
   },
   "outputs": [],
   "source": [
    "a_test, b_test = np.polyfit(y_test, y_predict_test, 1)"
   ]
  },
  {
   "cell_type": "code",
   "execution_count": 42,
   "id": "2d105179-33e8-4b60-8614-a41154b11cc9",
   "metadata": {
    "colab": {
     "base_uri": "https://localhost:8080/"
    },
    "executionInfo": {
     "elapsed": 21,
     "status": "ok",
     "timestamp": 1661847807227,
     "user": {
      "displayName": "Maxime Audon",
      "userId": "01188708632553912903"
     },
     "user_tz": -120
    },
    "id": "2d105179-33e8-4b60-8614-a41154b11cc9",
    "outputId": "1d740656-13ff-41a9-c34f-f0b612324be1"
   },
   "outputs": [
    {
     "name": "stdout",
     "output_type": "stream",
     "text": [
      "Le coefficient directeur de la droite vaut : 0.88\n"
     ]
    }
   ],
   "source": [
    "print(\"Le coefficient directeur de la droite vaut :\", a_test.round(2))"
   ]
  },
  {
   "cell_type": "code",
   "execution_count": 43,
   "id": "53c8aee5-72ae-48c9-9ff4-6a1610fd5fcf",
   "metadata": {
    "colab": {
     "base_uri": "https://localhost:8080/"
    },
    "executionInfo": {
     "elapsed": 28,
     "status": "ok",
     "timestamp": 1661847807737,
     "user": {
      "displayName": "Maxime Audon",
      "userId": "01188708632553912903"
     },
     "user_tz": -120
    },
    "id": "53c8aee5-72ae-48c9-9ff4-6a1610fd5fcf",
    "outputId": "cf1bb5ca-a170-4db0-b124-ad3bd445efc0"
   },
   "outputs": [
    {
     "name": "stdout",
     "output_type": "stream",
     "text": [
      "L'ordonnée à l'origine de la droite vaut: 2.56\n"
     ]
    }
   ],
   "source": [
    "print(\"L'ordonnée à l'origine de la droite vaut:\", b_test.round(2))"
   ]
  },
  {
   "cell_type": "markdown",
   "id": "f06a5465-a9b7-4218-8009-a6bf050c2f5b",
   "metadata": {
    "id": "f06a5465-a9b7-4218-8009-a6bf050c2f5b"
   },
   "source": [
    "## Synthèse des performances du modèle sur le jeu de test"
   ]
  },
  {
   "cell_type": "code",
   "execution_count": 44,
   "id": "9fa3a728-ede3-49f0-928c-a544be54201a",
   "metadata": {
    "colab": {
     "base_uri": "https://localhost:8080/"
    },
    "executionInfo": {
     "elapsed": 25,
     "status": "ok",
     "timestamp": 1661847807738,
     "user": {
      "displayName": "Maxime Audon",
      "userId": "01188708632553912903"
     },
     "user_tz": -120
    },
    "id": "9fa3a728-ede3-49f0-928c-a544be54201a",
    "outputId": "f3af5a4d-ca98-4974-d703-93657bfb413d"
   },
   "outputs": [
    {
     "data": {
      "image/png": "[encoded data removed]",
      "text/plain": [
       "<Figure size 800x500 with 1 Axes>"
      ]
     },
     "metadata": {
      "needs_background": "light"
     },
     "output_type": "display_data"
    }
   ],
   "source": [
    "plt.figure(figsize=(8,5), dpi=100)\n",
    "plt.title(\"Jeu de test : RMSE = \" + str(RMSE_test.round(2)) + \", R² = \" + str(R_squared_test.round(2)))\n",
    "plt.plot(y_test, y_predict_test, 'o')\n",
    "plt.plot(y_test, a_test * y_test + b_test, label=\"y = \" + str(a_test.round(2)) + \" + \" + str(b_test.round(2)))\n",
    "plt.plot(y_test, y_test, label=\"y = x\")\n",
    "plt.xlabel(\"valeurs réelles (k$)\")\n",
    "plt.ylabel(\"valeurs prédites (k$)\")\n",
    "plt.legend()\n",
    "plt.show()"
   ]
  },
  {
   "cell_type": "code",
   "execution_count": null,
   "id": "ca1b1030-2962-4bc4-a039-daaad13178d1",
   "metadata": {},
   "outputs": [],
   "source": []
  }
 ],
 "metadata": {
  "colab": {
   "name": "Boston House Prices Dataset.ipynb",
   "provenance": []
  },
  "kernelspec": {
   "display_name": "Python 3 (ipykernel)",
   "language": "python",
   "name": "python3"
  },
  "language_info": {
   "codemirror_mode": {
    "name": "ipython",
    "version": 3
   },
   "file_extension": ".py",
   "mimetype": "text/x-python",
   "name": "python",
   "nbconvert_exporter": "python",
   "pygments_lexer": "ipython3",
   "version": "3.9.12"
  }
 },
 "nbformat": 4,
 "nbformat_minor": 5
}
